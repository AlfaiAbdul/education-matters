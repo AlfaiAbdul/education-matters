{
 "cells": [
  {
   "cell_type": "code",
   "execution_count": 1,
   "metadata": {
    "collapsed": true
   },
   "outputs": [],
   "source": [
    "# This notebook contains cluster analysis code used to idnetify natural groupinps that may \n",
    "#    exist in a set of features.  Specifically, we looked for groupings in the column \n",
    "#    containing earnings info (MN_EARN_WNE_MALE1_P10).\n",
    "# Our aim was to use this grouping to bin column data for Decision Tree and PCA analyses.\n",
    "# The goal was to improve model accuracy by using natural binning instead of conventional \n",
    "#    20K band grouping. We found that natural binning actually reduced accuracy; it is not \n",
    "#    clear why this would be the case."
   ]
  },
  {
   "cell_type": "code",
   "execution_count": 2,
   "metadata": {
    "collapsed": true
   },
   "outputs": [],
   "source": [
    "import pandas as pd\n",
    "import numpy as np\n",
    "from matplotlib import pyplot as plt\n",
    "import seaborn as sns\n",
    "from sklearn import preprocessing\n",
    "from sklearn.preprocessing import StandardScaler\n",
    "from sklearn.preprocessing import MinMaxScaler\n",
    "from sklearn.model_selection import train_test_split\n",
    "from sklearn.cluster import KMeans"
   ]
  },
  {
   "cell_type": "code",
   "execution_count": 3,
   "metadata": {},
   "outputs": [
    {
     "name": "stdout",
     "output_type": "stream",
     "text": [
      "(1060, 71)\n"
     ]
    }
   ],
   "source": [
    "data = pd.read_csv('consol_data.csv')\n",
    "print(data.shape)"
   ]
  },
  {
   "cell_type": "code",
   "execution_count": 4,
   "metadata": {},
   "outputs": [
    {
     "name": "stdout",
     "output_type": "stream",
     "text": [
      "(989, 71)\n"
     ]
    }
   ],
   "source": [
    "edu_df = data.replace('PrivacySuppressed', np.nan).dropna()\n",
    "print(edu_df.shape)"
   ]
  },
  {
   "cell_type": "code",
   "execution_count": 5,
   "metadata": {},
   "outputs": [
    {
     "data": {
      "text/plain": [
       "Index(['UNITID', 'INSTNM', 'CITY', 'STABBR', 'ZIP', 'PCT_WHITE', 'PCT_BLACK',\n",
       "       'PCT_ASIAN', 'PCT_HISPANIC', 'PCT_BORN_US', 'MEDIAN_HH_INC',\n",
       "       'LN_MEDIAN_HH_INC', 'POVERTY_RATE', 'UNEMP_RATE', 'LATITUDE',\n",
       "       'LONGITUDE', 'ADM_RATE', 'ADM_RATE_ALL', 'SAT_AVG', 'COUNT_NWNE_P10',\n",
       "       'COUNT_WNE_P10', 'MN_EARN_WNE_P10', 'MN_EARN_WNE_MALE0_P10',\n",
       "       'MN_EARN_WNE_MALE1_P10', 'TUITIONFEE_IN', 'C150_4_WHITE',\n",
       "       'C150_4_BLACK', 'C150_4_HISP', 'C150_4_ASIAN', 'PCIP01', 'PCIP03',\n",
       "       'PCIP04', 'PCIP05', 'PCIP09', 'PCIP10', 'PCIP11', 'PCIP12', 'PCIP13',\n",
       "       'PCIP14', 'PCIP15', 'PCIP16', 'PCIP19', 'PCIP22', 'PCIP23', 'PCIP24',\n",
       "       'PCIP25', 'PCIP26', 'PCIP27', 'PCIP29', 'PCIP30', 'PCIP31', 'PCIP38',\n",
       "       'PCIP39', 'PCIP40', 'PCIP41', 'PCIP42', 'PCIP43', 'PCIP44', 'PCIP45',\n",
       "       'PCIP46', 'PCIP47', 'PCIP48', 'PCIP49', 'PCIP50', 'PCIP51', 'PCIP52',\n",
       "       'PCIP54', 'AGE_ENTRY', 'FEMALE', 'FIRST_GEN', 'FAMINC'],\n",
       "      dtype='object')"
      ]
     },
     "execution_count": 5,
     "metadata": {},
     "output_type": "execute_result"
    }
   ],
   "source": [
    "edu_df.columns"
   ]
  },
  {
   "cell_type": "code",
   "execution_count": 6,
   "metadata": {},
   "outputs": [
    {
     "data": {
      "text/html": [
       "<div>\n",
       "<style>\n",
       "    .dataframe thead tr:only-child th {\n",
       "        text-align: right;\n",
       "    }\n",
       "\n",
       "    .dataframe thead th {\n",
       "        text-align: left;\n",
       "    }\n",
       "\n",
       "    .dataframe tbody tr th {\n",
       "        vertical-align: top;\n",
       "    }\n",
       "</style>\n",
       "<table border=\"1\" class=\"dataframe\">\n",
       "  <thead>\n",
       "    <tr style=\"text-align: right;\">\n",
       "      <th></th>\n",
       "      <th>SAT_AVG</th>\n",
       "      <th>MEDIAN_HH_INC</th>\n",
       "      <th>TUITIONFEE_IN</th>\n",
       "    </tr>\n",
       "  </thead>\n",
       "  <tbody>\n",
       "    <tr>\n",
       "      <th>0</th>\n",
       "      <td>850.0</td>\n",
       "      <td>49720.22</td>\n",
       "      <td>9366.0</td>\n",
       "    </tr>\n",
       "    <tr>\n",
       "      <th>1</th>\n",
       "      <td>1147.0</td>\n",
       "      <td>55735.22</td>\n",
       "      <td>7766.0</td>\n",
       "    </tr>\n",
       "    <tr>\n",
       "      <th>2</th>\n",
       "      <td>1221.0</td>\n",
       "      <td>58688.62</td>\n",
       "      <td>9128.0</td>\n",
       "    </tr>\n",
       "    <tr>\n",
       "      <th>3</th>\n",
       "      <td>1181.0</td>\n",
       "      <td>57928.41</td>\n",
       "      <td>10170.0</td>\n",
       "    </tr>\n",
       "    <tr>\n",
       "      <th>4</th>\n",
       "      <td>990.0</td>\n",
       "      <td>50723.81</td>\n",
       "      <td>9350.0</td>\n",
       "    </tr>\n",
       "  </tbody>\n",
       "</table>\n",
       "</div>"
      ],
      "text/plain": [
       "   SAT_AVG  MEDIAN_HH_INC  TUITIONFEE_IN\n",
       "0    850.0       49720.22         9366.0\n",
       "1   1147.0       55735.22         7766.0\n",
       "2   1221.0       58688.62         9128.0\n",
       "3   1181.0       57928.41        10170.0\n",
       "4    990.0       50723.81         9350.0"
      ]
     },
     "execution_count": 6,
     "metadata": {},
     "output_type": "execute_result"
    }
   ],
   "source": [
    "subset_df = edu_df[['SAT_AVG', 'MEDIAN_HH_INC', 'TUITIONFEE_IN']].copy()\n",
    "subset_df.head()"
   ]
  },
  {
   "cell_type": "code",
   "execution_count": 7,
   "metadata": {},
   "outputs": [
    {
     "data": {
      "image/png": "[encoded data removed]",
      "text/plain": [
       "<matplotlib.figure.Figure at 0xc3b2f28>"
      ]
     },
     "metadata": {},
     "output_type": "display_data"
    }
   ],
   "source": [
    "sse = []\n",
    "for k in range(1, 12):\n",
    "    kmeans = KMeans(n_clusters=k)\n",
    "    kmeans.fit(subset_df)\n",
    "    sse.append(kmeans.inertia_)\n",
    "plt.plot(range(1, 12), sse)\n",
    "plt.show()"
   ]
  },
  {
   "cell_type": "code",
   "execution_count": 8,
   "metadata": {},
   "outputs": [
    {
     "name": "stdout",
     "output_type": "stream",
     "text": [
      "[[  1005.25093633  53608.35805243   8684.6741573 ]\n",
      " [  1181.34934498  75954.39432314  39752.65502183]\n",
      " [  1085.17488789  70421.08959641  10985.0044843 ]\n",
      " [  1026.90740741  61078.11507407  27831.34814815]]\n"
     ]
    }
   ],
   "source": [
    "kmeans = KMeans(n_clusters=4)\n",
    "kmeans = kmeans.fit(subset_df)\n",
    "# Getting the cluster labels\n",
    "predicted_clusters = kmeans.predict(subset_df)\n",
    "# Centroid values\n",
    "centroids = kmeans.cluster_centers_\n",
    "print(centroids)"
   ]
  },
  {
   "cell_type": "code",
   "execution_count": 9,
   "metadata": {
    "collapsed": true
   },
   "outputs": [],
   "source": [
    "# The two code blocks below were used to identify natural groupings in earnings.\n",
    "# The centroids found represent centers of natrual bands in earning, which were\n",
    "#    used to drive Decision Tree modeling--results obtained w/ this binning\n",
    "#    scheme produced lower accuracy."
   ]
  },
  {
   "cell_type": "code",
   "execution_count": 10,
   "metadata": {},
   "outputs": [
    {
     "data": {
      "image/png": "[encoded data removed]",
      "text/plain": [
       "<matplotlib.figure.Figure at 0xc60f518>"
      ]
     },
     "metadata": {},
     "output_type": "display_data"
    }
   ],
   "source": [
    "subset_df = edu_df[['MN_EARN_WNE_MALE0_P10']].copy()\n",
    "sse = []\n",
    "for k in range(1, 12):\n",
    "    kmeans = KMeans(n_clusters=k)\n",
    "    kmeans.fit(subset_df)\n",
    "    sse.append(kmeans.inertia_)\n",
    "plt.plot(range(1, 12), sse)\n",
    "plt.show()"
   ]
  },
  {
   "cell_type": "code",
   "execution_count": 11,
   "metadata": {},
   "outputs": [
    {
     "name": "stdout",
     "output_type": "stream",
     "text": [
      "[[ 45357.38498789]\n",
      " [ 84486.84210526]\n",
      " [ 58766.91176471]\n",
      " [ 35360.44776119]]\n"
     ]
    }
   ],
   "source": [
    "kmeans = KMeans(n_clusters=4)\n",
    "kmeans = kmeans.fit(subset_df)\n",
    "# Getting the cluster labels\n",
    "predicted_clusters = kmeans.predict(subset_df)\n",
    "# Centroid values\n",
    "centroids = kmeans.cluster_centers_\n",
    "print(centroids)"
   ]
  },
  {
   "cell_type": "markdown",
   "metadata": {},
   "source": [
    "## Test code not used for the project\n",
    "This code was used to visulaize any natural grouping that may exist between race (represented by % black student\n",
    "population) and earning potential."
   ]
  },
  {
   "cell_type": "code",
   "execution_count": null,
   "metadata": {
    "collapsed": true
   },
   "outputs": [],
   "source": [
    "y=subset_df.iloc[:, 1].values\n",
    "X=subset_df.iloc[:, 0].values\n",
    "plt.scatter(X, y, marker='.')\n",
    "plt.show()"
   ]
  },
  {
   "cell_type": "code",
   "execution_count": null,
   "metadata": {
    "collapsed": true
   },
   "outputs": [],
   "source": [
    "plt.scatter(X, y, marker='.', c=predicted_clusters, s=50, cmap='viridis')\n",
    "plt.show()"
   ]
  },
  {
   "cell_type": "code",
   "execution_count": null,
   "metadata": {
    "collapsed": true
   },
   "outputs": [],
   "source": [
    "# Repeat the process w/ minmax scaling applied to the dataframe"
   ]
  },
  {
   "cell_type": "code",
   "execution_count": null,
   "metadata": {
    "collapsed": true
   },
   "outputs": [],
   "source": [
    "X = subset_df[['PCT_BLACK']]\n",
    "y = subset_df[['Mean earnings of students working and not enrolled 10 years after entry']]\n",
    "X_minmax = MinMaxScaler().fit(X)\n",
    "y_minmax = MinMaxScaler().fit(y)\n",
    "X_transformed = X_minmax.transform(X)\n",
    "y_tranformed = y_minmax.transform(y)\n",
    "plt.scatter(X_transformed, y_tranformed, marker='.')\n",
    "plt.show()"
   ]
  },
  {
   "cell_type": "code",
   "execution_count": null,
   "metadata": {
    "collapsed": true
   },
   "outputs": [],
   "source": [
    "scaler = preprocessing.MinMaxScaler()\n",
    "minmax_scaled_df = scaler.fit_transform(subset_df)\n",
    "minmax_scaled_df = pd.DataFrame(minmax_scaled_df, columns=['PCT', 'Earning'])\n",
    "\n",
    "minmax_sse = []\n",
    "for k in range(1, 12):\n",
    "    kmeans = KMeans(n_clusters=k)\n",
    "    kmeans.fit(minmax_scaled_df)\n",
    "    minmax_sse.append(kmeans.inertia_)\n",
    "plt.plot(range(1, 12), sse)\n",
    "plt.show()"
   ]
  },
  {
   "cell_type": "code",
   "execution_count": null,
   "metadata": {
    "collapsed": true
   },
   "outputs": [],
   "source": [
    "kmeans = KMeans(n_clusters=7)\n",
    "kmeans = kmeans.fit(minmax_scaled_df)\n",
    "# Getting the cluster labels\n",
    "predicted_clusters = kmeans.predict(minmax_scaled_df)\n",
    "\n",
    "print(kmeans.predict([[0.67, 0.09]]))\n",
    "\n",
    "print(predicted_clusters[0])\n",
    "# Centroid values\n",
    "centroids = kmeans.cluster_centers_\n",
    "print(centroids)"
   ]
  },
  {
   "cell_type": "code",
   "execution_count": null,
   "metadata": {
    "collapsed": true
   },
   "outputs": [],
   "source": [
    "y=minmax_scaled_df.iloc[:, 1].values\n",
    "X=minmax_scaled_df.iloc[:, 0].values\n",
    "plt.scatter(X, y, marker='.', c=predicted_clusters, s=50, cmap='viridis')\n",
    "plt.show()"
   ]
  },
  {
   "cell_type": "code",
   "execution_count": null,
   "metadata": {
    "collapsed": true
   },
   "outputs": [],
   "source": [
    "# Repeat the process w/ robust scaling"
   ]
  },
  {
   "cell_type": "code",
   "execution_count": null,
   "metadata": {
    "collapsed": true
   },
   "outputs": [],
   "source": [
    "X = subset_df[['PCT_BLACK']]\n",
    "y = subset_df[['Mean earnings of students working and not enrolled 10 years after entry']]\n",
    "scaler = preprocessing.RobustScaler()\n",
    "X_robust = scaler.fit(X)\n",
    "y_robust = scaler.fit(y)\n",
    "X_transformed = X_robust.transform(X)\n",
    "y_tranformed = y_robust.transform(y)\n",
    "plt.scatter(X_transformed, y_tranformed, marker='.')\n",
    "plt.show()"
   ]
  },
  {
   "cell_type": "code",
   "execution_count": null,
   "metadata": {
    "collapsed": true
   },
   "outputs": [],
   "source": [
    "robust_scaled_df = scaler.fit_transform(subset_df)\n",
    "robust_scaled_df = pd.DataFrame(robust_scaled_df, columns=['PCT', 'Earning'])\n",
    "\n",
    "minmax_sse = []\n",
    "for k in range(1, 12):\n",
    "    kmeans = KMeans(n_clusters=k)\n",
    "    kmeans.fit(robust_scaled_df)\n",
    "    minmax_sse.append(kmeans.inertia_)\n",
    "plt.plot(range(1, 12), sse)\n",
    "plt.show()"
   ]
  },
  {
   "cell_type": "code",
   "execution_count": null,
   "metadata": {
    "collapsed": true
   },
   "outputs": [],
   "source": [
    "kmeans = KMeans(n_clusters=7)\n",
    "kmeans = kmeans.fit(robust_scaled_df)\n",
    "# Getting the cluster labels\n",
    "predicted_clusters = kmeans.predict(robust_scaled_df)\n",
    "# Centroid values\n",
    "centroids = kmeans.cluster_centers_\n",
    "print(centroids)"
   ]
  },
  {
   "cell_type": "code",
   "execution_count": null,
   "metadata": {
    "collapsed": true
   },
   "outputs": [],
   "source": [
    "y=robust_scaled_df.iloc[:, 1].values\n",
    "X=robust_scaled_df.iloc[:, 0].values\n",
    "plt.scatter(X, y, marker='.', c=predicted_clusters, s=50, cmap='viridis')\n",
    "plt.show()"
   ]
  },
  {
   "cell_type": "code",
   "execution_count": null,
   "metadata": {
    "collapsed": true
   },
   "outputs": [],
   "source": []
  }
 ],
 "metadata": {
  "kernelspec": {
   "display_name": "Python 3",
   "language": "python",
   "name": "python3"
  },
  "language_info": {
   "codemirror_mode": {
    "name": "ipython",
    "version": 3
   },
   "file_extension": ".py",
   "mimetype": "text/x-python",
   "name": "python",
   "nbconvert_exporter": "python",
   "pygments_lexer": "ipython3",
   "version": "3.6.3"
  }
 },
 "nbformat": 4,
 "nbformat_minor": 2
}
