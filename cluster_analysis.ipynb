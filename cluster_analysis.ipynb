{
 "cells": [
  {
   "cell_type": "code",
   "execution_count": 1,
   "metadata": {
    "collapsed": true
   },
   "outputs": [],
   "source": [
    "# This notebook contains cluster analysis code used to idnetify natural groupinps that may exist in a set of features.\n",
    "# Specifically, we looked for groupings in the column containing earnings info (MN_EARN_WNE_MALE1_P10).\n",
    "# Our aim was to use this grouping to bin column data for Decision Tree and PCA analyses.\n",
    "# The goal was to improve model accuracy by using natural binning instead of conventional 20K band grouping.\n",
    "# We found that natural binning actually reduced accuracy; it is not clear why this would be the case."
   ]
  },
  {
   "cell_type": "code",
   "execution_count": 2,
   "metadata": {
    "collapsed": true
   },
   "outputs": [],
   "source": [
    "import pandas as pd\n",
    "import numpy as np\n",
    "from matplotlib import pyplot as plt\n",
    "import seaborn as sns\n",
    "from sklearn import preprocessing\n",
    "from sklearn.preprocessing import StandardScaler\n",
    "from sklearn.preprocessing import MinMaxScaler\n",
    "from sklearn.model_selection import train_test_split\n",
    "from sklearn.cluster import KMeans"
   ]
  },
  {
   "cell_type": "code",
   "execution_count": 3,
   "metadata": {},
   "outputs": [
    {
     "name": "stdout",
     "output_type": "stream",
     "text": [
      "(1060, 71)\n"
     ]
    }
   ],
   "source": [
    "data = pd.read_csv('consol_data.csv')\n",
    "print(data.shape)"
   ]
  },
  {
   "cell_type": "code",
   "execution_count": 4,
   "metadata": {},
   "outputs": [
    {
     "data": {
      "text/html": [
       "<div>\n",
       "<style>\n",
       "    .dataframe thead tr:only-child th {\n",
       "        text-align: right;\n",
       "    }\n",
       "\n",
       "    .dataframe thead th {\n",
       "        text-align: left;\n",
       "    }\n",
       "\n",
       "    .dataframe tbody tr th {\n",
       "        vertical-align: top;\n",
       "    }\n",
       "</style>\n",
       "<table border=\"1\" class=\"dataframe\">\n",
       "  <thead>\n",
       "    <tr style=\"text-align: right;\">\n",
       "      <th></th>\n",
       "      <th>UNITID</th>\n",
       "      <th>INSTNM</th>\n",
       "      <th>CITY</th>\n",
       "      <th>STABBR</th>\n",
       "      <th>ZIP</th>\n",
       "      <th>PCT_WHITE</th>\n",
       "      <th>PCT_BLACK</th>\n",
       "      <th>PCT_ASIAN</th>\n",
       "      <th>PCT_HISPANIC</th>\n",
       "      <th>PCT_BORN_US</th>\n",
       "      <th>...</th>\n",
       "      <th>PCIP48</th>\n",
       "      <th>PCIP49</th>\n",
       "      <th>PCIP50</th>\n",
       "      <th>PCIP51</th>\n",
       "      <th>PCIP52</th>\n",
       "      <th>PCIP54</th>\n",
       "      <th>AGE_ENTRY</th>\n",
       "      <th>FEMALE</th>\n",
       "      <th>FIRST_GEN</th>\n",
       "      <th>FAMINC</th>\n",
       "    </tr>\n",
       "  </thead>\n",
       "  <tbody>\n",
       "    <tr>\n",
       "      <th>0</th>\n",
       "      <td>100654</td>\n",
       "      <td>Alabama A &amp; M University</td>\n",
       "      <td>Normal</td>\n",
       "      <td>AL</td>\n",
       "      <td>35762</td>\n",
       "      <td>46.840000</td>\n",
       "      <td>47.980000</td>\n",
       "      <td>1.48</td>\n",
       "      <td>3.79</td>\n",
       "      <td>94.739998</td>\n",
       "      <td>...</td>\n",
       "      <td>0.0</td>\n",
       "      <td>0.0</td>\n",
       "      <td>0.0258</td>\n",
       "      <td>0.0000</td>\n",
       "      <td>0.1479</td>\n",
       "      <td>0.0000</td>\n",
       "      <td>20.277134</td>\n",
       "      <td>0.5472427116</td>\n",
       "      <td>0.3887357227</td>\n",
       "      <td>30489.792062</td>\n",
       "    </tr>\n",
       "    <tr>\n",
       "      <th>1</th>\n",
       "      <td>100663</td>\n",
       "      <td>University of Alabama at Birmingham</td>\n",
       "      <td>Birmingham</td>\n",
       "      <td>AL</td>\n",
       "      <td>35294-0110</td>\n",
       "      <td>69.019997</td>\n",
       "      <td>27.760000</td>\n",
       "      <td>1.10</td>\n",
       "      <td>2.03</td>\n",
       "      <td>96.500000</td>\n",
       "      <td>...</td>\n",
       "      <td>0.0</td>\n",
       "      <td>0.0</td>\n",
       "      <td>0.0376</td>\n",
       "      <td>0.2231</td>\n",
       "      <td>0.1837</td>\n",
       "      <td>0.0188</td>\n",
       "      <td>23.584156</td>\n",
       "      <td>0.6369683532</td>\n",
       "      <td>0.3564593301</td>\n",
       "      <td>50315.256601</td>\n",
       "    </tr>\n",
       "    <tr>\n",
       "      <th>2</th>\n",
       "      <td>100706</td>\n",
       "      <td>University of Alabama in Huntsville</td>\n",
       "      <td>Huntsville</td>\n",
       "      <td>AL</td>\n",
       "      <td>35899</td>\n",
       "      <td>76.379997</td>\n",
       "      <td>18.980000</td>\n",
       "      <td>1.42</td>\n",
       "      <td>2.55</td>\n",
       "      <td>95.269997</td>\n",
       "      <td>...</td>\n",
       "      <td>0.0</td>\n",
       "      <td>0.0</td>\n",
       "      <td>0.0288</td>\n",
       "      <td>0.1892</td>\n",
       "      <td>0.2072</td>\n",
       "      <td>0.0117</td>\n",
       "      <td>23.152714</td>\n",
       "      <td>0.4779208832</td>\n",
       "      <td>0.3137931034</td>\n",
       "      <td>55624.221251</td>\n",
       "    </tr>\n",
       "    <tr>\n",
       "      <th>3</th>\n",
       "      <td>100751</td>\n",
       "      <td>The University of Alabama</td>\n",
       "      <td>Tuscaloosa</td>\n",
       "      <td>AL</td>\n",
       "      <td>35487-0166</td>\n",
       "      <td>75.349998</td>\n",
       "      <td>21.059999</td>\n",
       "      <td>1.20</td>\n",
       "      <td>2.41</td>\n",
       "      <td>96.080002</td>\n",
       "      <td>...</td>\n",
       "      <td>0.0</td>\n",
       "      <td>0.0</td>\n",
       "      <td>0.0295</td>\n",
       "      <td>0.1065</td>\n",
       "      <td>0.2886</td>\n",
       "      <td>0.0155</td>\n",
       "      <td>21.161128</td>\n",
       "      <td>0.607564495</td>\n",
       "      <td>0.2329344729</td>\n",
       "      <td>89976.373415</td>\n",
       "    </tr>\n",
       "    <tr>\n",
       "      <th>4</th>\n",
       "      <td>100830</td>\n",
       "      <td>Auburn University at Montgomery</td>\n",
       "      <td>Montgomery</td>\n",
       "      <td>AL</td>\n",
       "      <td>36117-3596</td>\n",
       "      <td>59.970001</td>\n",
       "      <td>37.209999</td>\n",
       "      <td>0.91</td>\n",
       "      <td>1.62</td>\n",
       "      <td>96.849998</td>\n",
       "      <td>...</td>\n",
       "      <td>0.0</td>\n",
       "      <td>0.0</td>\n",
       "      <td>0.0286</td>\n",
       "      <td>0.2555</td>\n",
       "      <td>0.2471</td>\n",
       "      <td>0.0134</td>\n",
       "      <td>22.438243</td>\n",
       "      <td>0.6838975297</td>\n",
       "      <td>0.3906485671</td>\n",
       "      <td>38489.309241</td>\n",
       "    </tr>\n",
       "  </tbody>\n",
       "</table>\n",
       "<p>5 rows × 71 columns</p>\n",
       "</div>"
      ],
      "text/plain": [
       "   UNITID                               INSTNM        CITY STABBR         ZIP  \\\n",
       "0  100654             Alabama A & M University      Normal     AL       35762   \n",
       "1  100663  University of Alabama at Birmingham  Birmingham     AL  35294-0110   \n",
       "2  100706  University of Alabama in Huntsville  Huntsville     AL       35899   \n",
       "3  100751            The University of Alabama  Tuscaloosa     AL  35487-0166   \n",
       "4  100830      Auburn University at Montgomery  Montgomery     AL  36117-3596   \n",
       "\n",
       "   PCT_WHITE  PCT_BLACK  PCT_ASIAN  PCT_HISPANIC  PCT_BORN_US      ...       \\\n",
       "0  46.840000  47.980000       1.48          3.79    94.739998      ...        \n",
       "1  69.019997  27.760000       1.10          2.03    96.500000      ...        \n",
       "2  76.379997  18.980000       1.42          2.55    95.269997      ...        \n",
       "3  75.349998  21.059999       1.20          2.41    96.080002      ...        \n",
       "4  59.970001  37.209999       0.91          1.62    96.849998      ...        \n",
       "\n",
       "   PCIP48  PCIP49  PCIP50  PCIP51  PCIP52  PCIP54  AGE_ENTRY        FEMALE  \\\n",
       "0     0.0     0.0  0.0258  0.0000  0.1479  0.0000  20.277134  0.5472427116   \n",
       "1     0.0     0.0  0.0376  0.2231  0.1837  0.0188  23.584156  0.6369683532   \n",
       "2     0.0     0.0  0.0288  0.1892  0.2072  0.0117  23.152714  0.4779208832   \n",
       "3     0.0     0.0  0.0295  0.1065  0.2886  0.0155  21.161128   0.607564495   \n",
       "4     0.0     0.0  0.0286  0.2555  0.2471  0.0134  22.438243  0.6838975297   \n",
       "\n",
       "      FIRST_GEN        FAMINC  \n",
       "0  0.3887357227  30489.792062  \n",
       "1  0.3564593301  50315.256601  \n",
       "2  0.3137931034  55624.221251  \n",
       "3  0.2329344729  89976.373415  \n",
       "4  0.3906485671  38489.309241  \n",
       "\n",
       "[5 rows x 71 columns]"
      ]
     },
     "execution_count": 4,
     "metadata": {},
     "output_type": "execute_result"
    }
   ],
   "source": [
    "data.head()"
   ]
  },
  {
   "cell_type": "code",
   "execution_count": 5,
   "metadata": {},
   "outputs": [
    {
     "name": "stdout",
     "output_type": "stream",
     "text": [
      "(989, 71)\n"
     ]
    }
   ],
   "source": [
    "edu_df = data.replace('PrivacySuppressed', np.nan).dropna()\n",
    "print(edu_df.shape)"
   ]
  },
  {
   "cell_type": "code",
   "execution_count": 6,
   "metadata": {},
   "outputs": [
    {
     "data": {
      "text/plain": [
       "Index(['UNITID', 'INSTNM', 'CITY', 'STABBR', 'ZIP', 'PCT_WHITE', 'PCT_BLACK',\n",
       "       'PCT_ASIAN', 'PCT_HISPANIC', 'PCT_BORN_US', 'MEDIAN_HH_INC',\n",
       "       'LN_MEDIAN_HH_INC', 'POVERTY_RATE', 'UNEMP_RATE', 'LATITUDE',\n",
       "       'LONGITUDE', 'ADM_RATE', 'ADM_RATE_ALL', 'SAT_AVG', 'COUNT_NWNE_P10',\n",
       "       'COUNT_WNE_P10', 'MN_EARN_WNE_P10', 'MN_EARN_WNE_MALE0_P10',\n",
       "       'MN_EARN_WNE_MALE1_P10', 'TUITIONFEE_IN', 'C150_4_WHITE',\n",
       "       'C150_4_BLACK', 'C150_4_HISP', 'C150_4_ASIAN', 'PCIP01', 'PCIP03',\n",
       "       'PCIP04', 'PCIP05', 'PCIP09', 'PCIP10', 'PCIP11', 'PCIP12', 'PCIP13',\n",
       "       'PCIP14', 'PCIP15', 'PCIP16', 'PCIP19', 'PCIP22', 'PCIP23', 'PCIP24',\n",
       "       'PCIP25', 'PCIP26', 'PCIP27', 'PCIP29', 'PCIP30', 'PCIP31', 'PCIP38',\n",
       "       'PCIP39', 'PCIP40', 'PCIP41', 'PCIP42', 'PCIP43', 'PCIP44', 'PCIP45',\n",
       "       'PCIP46', 'PCIP47', 'PCIP48', 'PCIP49', 'PCIP50', 'PCIP51', 'PCIP52',\n",
       "       'PCIP54', 'AGE_ENTRY', 'FEMALE', 'FIRST_GEN', 'FAMINC'],\n",
       "      dtype='object')"
      ]
     },
     "execution_count": 6,
     "metadata": {},
     "output_type": "execute_result"
    }
   ],
   "source": [
    "edu_df.columns"
   ]
  },
  {
   "cell_type": "code",
   "execution_count": 7,
   "metadata": {},
   "outputs": [
    {
     "data": {
      "text/html": [
       "<div>\n",
       "<style>\n",
       "    .dataframe thead tr:only-child th {\n",
       "        text-align: right;\n",
       "    }\n",
       "\n",
       "    .dataframe thead th {\n",
       "        text-align: left;\n",
       "    }\n",
       "\n",
       "    .dataframe tbody tr th {\n",
       "        vertical-align: top;\n",
       "    }\n",
       "</style>\n",
       "<table border=\"1\" class=\"dataframe\">\n",
       "  <thead>\n",
       "    <tr style=\"text-align: right;\">\n",
       "      <th></th>\n",
       "      <th>MN_EARN_WNE_MALE1_P10</th>\n",
       "    </tr>\n",
       "  </thead>\n",
       "  <tbody>\n",
       "    <tr>\n",
       "      <th>0</th>\n",
       "      <td>36900</td>\n",
       "    </tr>\n",
       "    <tr>\n",
       "      <th>1</th>\n",
       "      <td>54200</td>\n",
       "    </tr>\n",
       "    <tr>\n",
       "      <th>2</th>\n",
       "      <td>58400</td>\n",
       "    </tr>\n",
       "    <tr>\n",
       "      <th>3</th>\n",
       "      <td>58100</td>\n",
       "    </tr>\n",
       "    <tr>\n",
       "      <th>4</th>\n",
       "      <td>45300</td>\n",
       "    </tr>\n",
       "  </tbody>\n",
       "</table>\n",
       "</div>"
      ],
      "text/plain": [
       "  MN_EARN_WNE_MALE1_P10\n",
       "0                 36900\n",
       "1                 54200\n",
       "2                 58400\n",
       "3                 58100\n",
       "4                 45300"
      ]
     },
     "execution_count": 7,
     "metadata": {},
     "output_type": "execute_result"
    }
   ],
   "source": [
    "subset_df = edu_df[['MN_EARN_WNE_MALE1_P10']].copy()\n",
    "subset_df.head()"
   ]
  },
  {
   "cell_type": "code",
   "execution_count": 8,
   "metadata": {},
   "outputs": [
    {
     "data": {
      "image/png": "[encoded data removed]",
      "text/plain": [
       "<matplotlib.figure.Figure at 0xcc47390>"
      ]
     },
     "metadata": {},
     "output_type": "display_data"
    }
   ],
   "source": [
    "sse = []\n",
    "for k in range(1, 12):\n",
    "    kmeans = KMeans(n_clusters=k)\n",
    "    kmeans.fit(subset_df)\n",
    "    sse.append(kmeans.inertia_)\n",
    "plt.plot(range(1, 12), sse)\n",
    "plt.show()"
   ]
  },
  {
   "cell_type": "code",
   "execution_count": 9,
   "metadata": {},
   "outputs": [
    {
     "name": "stdout",
     "output_type": "stream",
     "text": [
      "[[  59787.22891566]\n",
      " [  83206.89655172]\n",
      " [  46475.84745763]\n",
      " [ 132773.33333333]]\n"
     ]
    }
   ],
   "source": [
    "kmeans = KMeans(n_clusters=4)\n",
    "kmeans = kmeans.fit(subset_df)\n",
    "# Getting the cluster labels\n",
    "predicted_clusters = kmeans.predict(subset_df)\n",
    "# Centroid values\n",
    "centroids = kmeans.cluster_centers_\n",
    "print(centroids)"
   ]
  },
  {
   "cell_type": "markdown",
   "metadata": {},
   "source": [
    "## Test code not used for the project\n",
    "This code was used to visulaize any natural grouping that may exist between race (represented by % black student\n",
    "population) and earning potential."
   ]
  },
  {
   "cell_type": "code",
   "execution_count": null,
   "metadata": {},
   "outputs": [],
   "source": [
    "y=subset_df.iloc[:, 1].values\n",
    "X=subset_df.iloc[:, 0].values\n",
    "plt.scatter(X, y, marker='.')\n",
    "plt.show()"
   ]
  },
  {
   "cell_type": "code",
   "execution_count": null,
   "metadata": {},
   "outputs": [],
   "source": [
    "plt.scatter(X, y, marker='.', c=predicted_clusters, s=50, cmap='viridis')\n",
    "plt.show()"
   ]
  },
  {
   "cell_type": "code",
   "execution_count": null,
   "metadata": {
    "collapsed": true
   },
   "outputs": [],
   "source": [
    "# Repeat the process w/ minmax scaling applied to the dataframe"
   ]
  },
  {
   "cell_type": "code",
   "execution_count": null,
   "metadata": {},
   "outputs": [],
   "source": [
    "X = subset_df[['PCT_BLACK']]\n",
    "y = subset_df[['Mean earnings of students working and not enrolled 10 years after entry']]\n",
    "X_minmax = MinMaxScaler().fit(X)\n",
    "y_minmax = MinMaxScaler().fit(y)\n",
    "X_transformed = X_minmax.transform(X)\n",
    "y_tranformed = y_minmax.transform(y)\n",
    "plt.scatter(X_transformed, y_tranformed, marker='.')\n",
    "plt.show()"
   ]
  },
  {
   "cell_type": "code",
   "execution_count": null,
   "metadata": {},
   "outputs": [],
   "source": [
    "scaler = preprocessing.MinMaxScaler()\n",
    "minmax_scaled_df = scaler.fit_transform(subset_df)\n",
    "minmax_scaled_df = pd.DataFrame(minmax_scaled_df, columns=['PCT', 'Earning'])\n",
    "\n",
    "minmax_sse = []\n",
    "for k in range(1, 12):\n",
    "    kmeans = KMeans(n_clusters=k)\n",
    "    kmeans.fit(minmax_scaled_df)\n",
    "    minmax_sse.append(kmeans.inertia_)\n",
    "plt.plot(range(1, 12), sse)\n",
    "plt.show()"
   ]
  },
  {
   "cell_type": "code",
   "execution_count": null,
   "metadata": {},
   "outputs": [],
   "source": [
    "kmeans = KMeans(n_clusters=7)\n",
    "kmeans = kmeans.fit(minmax_scaled_df)\n",
    "# Getting the cluster labels\n",
    "predicted_clusters = kmeans.predict(minmax_scaled_df)\n",
    "\n",
    "print(kmeans.predict([[0.67, 0.09]]))\n",
    "\n",
    "print(predicted_clusters[0])\n",
    "# Centroid values\n",
    "centroids = kmeans.cluster_centers_\n",
    "print(centroids)"
   ]
  },
  {
   "cell_type": "code",
   "execution_count": null,
   "metadata": {},
   "outputs": [],
   "source": [
    "y=minmax_scaled_df.iloc[:, 1].values\n",
    "X=minmax_scaled_df.iloc[:, 0].values\n",
    "plt.scatter(X, y, marker='.', c=predicted_clusters, s=50, cmap='viridis')\n",
    "plt.show()"
   ]
  },
  {
   "cell_type": "code",
   "execution_count": null,
   "metadata": {
    "collapsed": true
   },
   "outputs": [],
   "source": [
    "# Repeat the process w/ robust scaling"
   ]
  },
  {
   "cell_type": "code",
   "execution_count": null,
   "metadata": {},
   "outputs": [],
   "source": [
    "X = subset_df[['PCT_BLACK']]\n",
    "y = subset_df[['Mean earnings of students working and not enrolled 10 years after entry']]\n",
    "scaler = preprocessing.RobustScaler()\n",
    "X_robust = scaler.fit(X)\n",
    "y_robust = scaler.fit(y)\n",
    "X_transformed = X_robust.transform(X)\n",
    "y_tranformed = y_robust.transform(y)\n",
    "plt.scatter(X_transformed, y_tranformed, marker='.')\n",
    "plt.show()"
   ]
  },
  {
   "cell_type": "code",
   "execution_count": null,
   "metadata": {},
   "outputs": [],
   "source": [
    "robust_scaled_df = scaler.fit_transform(subset_df)\n",
    "robust_scaled_df = pd.DataFrame(robust_scaled_df, columns=['PCT', 'Earning'])\n",
    "\n",
    "minmax_sse = []\n",
    "for k in range(1, 12):\n",
    "    kmeans = KMeans(n_clusters=k)\n",
    "    kmeans.fit(robust_scaled_df)\n",
    "    minmax_sse.append(kmeans.inertia_)\n",
    "plt.plot(range(1, 12), sse)\n",
    "plt.show()"
   ]
  },
  {
   "cell_type": "code",
   "execution_count": null,
   "metadata": {},
   "outputs": [],
   "source": [
    "kmeans = KMeans(n_clusters=7)\n",
    "kmeans = kmeans.fit(robust_scaled_df)\n",
    "# Getting the cluster labels\n",
    "predicted_clusters = kmeans.predict(robust_scaled_df)\n",
    "# Centroid values\n",
    "centroids = kmeans.cluster_centers_\n",
    "print(centroids)"
   ]
  },
  {
   "cell_type": "code",
   "execution_count": null,
   "metadata": {},
   "outputs": [],
   "source": [
    "y=robust_scaled_df.iloc[:, 1].values\n",
    "X=robust_scaled_df.iloc[:, 0].values\n",
    "plt.scatter(X, y, marker='.', c=predicted_clusters, s=50, cmap='viridis')\n",
    "plt.show()"
   ]
  },
  {
   "cell_type": "code",
   "execution_count": null,
   "metadata": {
    "collapsed": true
   },
   "outputs": [],
   "source": []
  }
 ],
 "metadata": {
  "kernelspec": {
   "display_name": "Python 3",
   "language": "python",
   "name": "python3"
  },
  "language_info": {
   "codemirror_mode": {
    "name": "ipython",
    "version": 3
   },
   "file_extension": ".py",
   "mimetype": "text/x-python",
   "name": "python",
   "nbconvert_exporter": "python",
   "pygments_lexer": "ipython3",
   "version": "3.6.3"
  }
 },
 "nbformat": 4,
 "nbformat_minor": 2
}
