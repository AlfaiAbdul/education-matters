{
 "cells": [
  {
   "cell_type": "code",
   "execution_count": 1,
   "metadata": {
    "collapsed": true
   },
   "outputs": [],
   "source": [
    "# This notebook contains cluster analysis code used to idnetify natural groupinps that may \n",
    "#    exist in a set of features.  Specifically, we looked for groupings in the column \n",
    "#    containing earnings info (MN_EARN_WNE_MALE1_P10).\n",
    "# Our aim was to use this grouping to bin column data for Decision Tree and PCA analyses.\n",
    "# The goal was to improve model accuracy by using natural binning instead of conventional \n",
    "#    20K band grouping. We found that natural binning actually reduced accuracy; it is not \n",
    "#    clear why this would be the case."
   ]
  },
  {
   "cell_type": "code",
   "execution_count": 2,
   "metadata": {
    "collapsed": true
   },
   "outputs": [],
   "source": [
    "import pandas as pd\n",
    "import numpy as np\n",
    "from matplotlib import pyplot as plt\n",
    "import seaborn as sns\n",
    "from sklearn import preprocessing\n",
    "from sklearn.preprocessing import StandardScaler\n",
    "from sklearn.preprocessing import MinMaxScaler\n",
    "from sklearn.model_selection import train_test_split\n",
    "from sklearn.cluster import KMeans"
   ]
  },
  {
   "cell_type": "code",
   "execution_count": 3,
   "metadata": {},
   "outputs": [
    {
     "name": "stdout",
     "output_type": "stream",
     "text": [
      "(1060, 71)\n"
     ]
    }
   ],
   "source": [
    "data = pd.read_csv('consol_data.csv')\n",
    "print(data.shape)"
   ]
  },
  {
   "cell_type": "code",
   "execution_count": 4,
   "metadata": {},
   "outputs": [
    {
     "name": "stdout",
     "output_type": "stream",
     "text": [
      "(989, 71)\n"
     ]
    }
   ],
   "source": [
    "edu_df = data.replace('PrivacySuppressed', np.nan).dropna()\n",
    "print(edu_df.shape)"
   ]
  },
  {
   "cell_type": "code",
   "execution_count": 5,
   "metadata": {},
   "outputs": [
    {
     "data": {
      "text/plain": [
       "Index(['UNITID', 'INSTNM', 'CITY', 'STABBR', 'ZIP', 'PCT_WHITE', 'PCT_BLACK',\n",
       "       'PCT_ASIAN', 'PCT_HISPANIC', 'PCT_BORN_US', 'MEDIAN_HH_INC',\n",
       "       'LN_MEDIAN_HH_INC', 'POVERTY_RATE', 'UNEMP_RATE', 'LATITUDE',\n",
       "       'LONGITUDE', 'ADM_RATE', 'ADM_RATE_ALL', 'SAT_AVG', 'COUNT_NWNE_P10',\n",
       "       'COUNT_WNE_P10', 'MN_EARN_WNE_P10', 'MN_EARN_WNE_MALE0_P10',\n",
       "       'MN_EARN_WNE_MALE1_P10', 'TUITIONFEE_IN', 'C150_4_WHITE',\n",
       "       'C150_4_BLACK', 'C150_4_HISP', 'C150_4_ASIAN', 'PCIP01', 'PCIP03',\n",
       "       'PCIP04', 'PCIP05', 'PCIP09', 'PCIP10', 'PCIP11', 'PCIP12', 'PCIP13',\n",
       "       'PCIP14', 'PCIP15', 'PCIP16', 'PCIP19', 'PCIP22', 'PCIP23', 'PCIP24',\n",
       "       'PCIP25', 'PCIP26', 'PCIP27', 'PCIP29', 'PCIP30', 'PCIP31', 'PCIP38',\n",
       "       'PCIP39', 'PCIP40', 'PCIP41', 'PCIP42', 'PCIP43', 'PCIP44', 'PCIP45',\n",
       "       'PCIP46', 'PCIP47', 'PCIP48', 'PCIP49', 'PCIP50', 'PCIP51', 'PCIP52',\n",
       "       'PCIP54', 'AGE_ENTRY', 'FEMALE', 'FIRST_GEN', 'FAMINC'],\n",
       "      dtype='object')"
      ]
     },
     "execution_count": 5,
     "metadata": {},
     "output_type": "execute_result"
    }
   ],
   "source": [
    "edu_df.columns"
   ]
  },
  {
   "cell_type": "code",
   "execution_count": null,
   "metadata": {},
   "outputs": [],
   "source": [
    "subset_df = edu_df[['SAT_AVG', 'MEDIAN_HH_INC', 'TUITIONFEE_IN']].copy()\n",
    "subset_df.head()"
   ]
  },
  {
   "cell_type": "code",
   "execution_count": null,
   "metadata": {},
   "outputs": [],
   "source": [
    "sse = []\n",
    "for k in range(1, 12):\n",
    "    kmeans = KMeans(n_clusters=k)\n",
    "    kmeans.fit(subset_df)\n",
    "    sse.append(kmeans.inertia_)\n",
    "plt.plot(range(1, 12), sse)\n",
    "plt.show()"
   ]
  },
  {
   "cell_type": "code",
   "execution_count": null,
   "metadata": {},
   "outputs": [],
   "source": [
    "kmeans = KMeans(n_clusters=4)\n",
    "kmeans = kmeans.fit(subset_df)\n",
    "# Getting the cluster labels\n",
    "predicted_clusters = kmeans.predict(subset_df)\n",
    "# Centroid values\n",
    "centroids = kmeans.cluster_centers_\n",
    "print(centroids)"
   ]
  },
  {
   "cell_type": "code",
   "execution_count": null,
   "metadata": {
    "collapsed": true
   },
   "outputs": [],
   "source": [
    "# The two code blocks below were used to identify natural groupings in earnings.\n",
    "# The centroids found represent centers of natrual bands in earning, which were\n",
    "#    used to drive Decision Tree modeling--results obtained w/ this binning\n",
    "#    scheme produced lower accuracy."
   ]
  },
  {
   "cell_type": "code",
   "execution_count": null,
   "metadata": {},
   "outputs": [],
   "source": [
    "subset_df = edu_df[['MN_EARN_WNE_MALE0_P10']].copy()\n",
    "sse = []\n",
    "for k in range(1, 12):\n",
    "    kmeans = KMeans(n_clusters=k)\n",
    "    kmeans.fit(subset_df)\n",
    "    sse.append(kmeans.inertia_)\n",
    "plt.plot(range(1, 12), sse)\n",
    "plt.show()"
   ]
  },
  {
   "cell_type": "code",
   "execution_count": null,
   "metadata": {},
   "outputs": [],
   "source": [
    "kmeans = KMeans(n_clusters=4)\n",
    "kmeans = kmeans.fit(subset_df)\n",
    "# Getting the cluster labels\n",
    "predicted_clusters = kmeans.predict(subset_df)\n",
    "# Centroid values\n",
    "centroids = kmeans.cluster_centers_\n",
    "print(centroids)"
   ]
  },
  {
   "cell_type": "markdown",
   "metadata": {},
   "source": [
    "## Test code not used for the project\n",
    "This code was used to visulaize any natural grouping that may exist between race (represented by % black student\n",
    "population) and earning potential."
   ]
  },
  {
   "cell_type": "code",
   "execution_count": null,
   "metadata": {},
   "outputs": [],
   "source": [
    "y=subset_df.iloc[:, 1].values\n",
    "X=subset_df.iloc[:, 0].values\n",
    "plt.scatter(X, y, marker='.')\n",
    "plt.show()"
   ]
  },
  {
   "cell_type": "code",
   "execution_count": null,
   "metadata": {},
   "outputs": [],
   "source": [
    "plt.scatter(X, y, marker='.', c=predicted_clusters, s=50, cmap='viridis')\n",
    "plt.show()"
   ]
  },
  {
   "cell_type": "code",
   "execution_count": null,
   "metadata": {
    "collapsed": true
   },
   "outputs": [],
   "source": [
    "# Repeat the process w/ minmax scaling applied to the dataframe"
   ]
  },
  {
   "cell_type": "code",
   "execution_count": null,
   "metadata": {},
   "outputs": [],
   "source": [
    "X = subset_df[['PCT_BLACK']]\n",
    "y = subset_df[['Mean earnings of students working and not enrolled 10 years after entry']]\n",
    "X_minmax = MinMaxScaler().fit(X)\n",
    "y_minmax = MinMaxScaler().fit(y)\n",
    "X_transformed = X_minmax.transform(X)\n",
    "y_tranformed = y_minmax.transform(y)\n",
    "plt.scatter(X_transformed, y_tranformed, marker='.')\n",
    "plt.show()"
   ]
  },
  {
   "cell_type": "code",
   "execution_count": null,
   "metadata": {},
   "outputs": [],
   "source": [
    "scaler = preprocessing.MinMaxScaler()\n",
    "minmax_scaled_df = scaler.fit_transform(subset_df)\n",
    "minmax_scaled_df = pd.DataFrame(minmax_scaled_df, columns=['PCT', 'Earning'])\n",
    "\n",
    "minmax_sse = []\n",
    "for k in range(1, 12):\n",
    "    kmeans = KMeans(n_clusters=k)\n",
    "    kmeans.fit(minmax_scaled_df)\n",
    "    minmax_sse.append(kmeans.inertia_)\n",
    "plt.plot(range(1, 12), sse)\n",
    "plt.show()"
   ]
  },
  {
   "cell_type": "code",
   "execution_count": null,
   "metadata": {},
   "outputs": [],
   "source": [
    "kmeans = KMeans(n_clusters=7)\n",
    "kmeans = kmeans.fit(minmax_scaled_df)\n",
    "# Getting the cluster labels\n",
    "predicted_clusters = kmeans.predict(minmax_scaled_df)\n",
    "\n",
    "print(kmeans.predict([[0.67, 0.09]]))\n",
    "\n",
    "print(predicted_clusters[0])\n",
    "# Centroid values\n",
    "centroids = kmeans.cluster_centers_\n",
    "print(centroids)"
   ]
  },
  {
   "cell_type": "code",
   "execution_count": null,
   "metadata": {},
   "outputs": [],
   "source": [
    "y=minmax_scaled_df.iloc[:, 1].values\n",
    "X=minmax_scaled_df.iloc[:, 0].values\n",
    "plt.scatter(X, y, marker='.', c=predicted_clusters, s=50, cmap='viridis')\n",
    "plt.show()"
   ]
  },
  {
   "cell_type": "code",
   "execution_count": null,
   "metadata": {
    "collapsed": true
   },
   "outputs": [],
   "source": [
    "# Repeat the process w/ robust scaling"
   ]
  },
  {
   "cell_type": "code",
   "execution_count": null,
   "metadata": {},
   "outputs": [],
   "source": [
    "X = subset_df[['PCT_BLACK']]\n",
    "y = subset_df[['Mean earnings of students working and not enrolled 10 years after entry']]\n",
    "scaler = preprocessing.RobustScaler()\n",
    "X_robust = scaler.fit(X)\n",
    "y_robust = scaler.fit(y)\n",
    "X_transformed = X_robust.transform(X)\n",
    "y_tranformed = y_robust.transform(y)\n",
    "plt.scatter(X_transformed, y_tranformed, marker='.')\n",
    "plt.show()"
   ]
  },
  {
   "cell_type": "code",
   "execution_count": null,
   "metadata": {},
   "outputs": [],
   "source": [
    "robust_scaled_df = scaler.fit_transform(subset_df)\n",
    "robust_scaled_df = pd.DataFrame(robust_scaled_df, columns=['PCT', 'Earning'])\n",
    "\n",
    "minmax_sse = []\n",
    "for k in range(1, 12):\n",
    "    kmeans = KMeans(n_clusters=k)\n",
    "    kmeans.fit(robust_scaled_df)\n",
    "    minmax_sse.append(kmeans.inertia_)\n",
    "plt.plot(range(1, 12), sse)\n",
    "plt.show()"
   ]
  },
  {
   "cell_type": "code",
   "execution_count": null,
   "metadata": {},
   "outputs": [],
   "source": [
    "kmeans = KMeans(n_clusters=7)\n",
    "kmeans = kmeans.fit(robust_scaled_df)\n",
    "# Getting the cluster labels\n",
    "predicted_clusters = kmeans.predict(robust_scaled_df)\n",
    "# Centroid values\n",
    "centroids = kmeans.cluster_centers_\n",
    "print(centroids)"
   ]
  },
  {
   "cell_type": "code",
   "execution_count": null,
   "metadata": {},
   "outputs": [],
   "source": [
    "y=robust_scaled_df.iloc[:, 1].values\n",
    "X=robust_scaled_df.iloc[:, 0].values\n",
    "plt.scatter(X, y, marker='.', c=predicted_clusters, s=50, cmap='viridis')\n",
    "plt.show()"
   ]
  },
  {
   "cell_type": "code",
   "execution_count": null,
   "metadata": {
    "collapsed": true
   },
   "outputs": [],
   "source": []
  }
 ],
 "metadata": {
  "kernelspec": {
   "display_name": "Python 3",
   "language": "python",
   "name": "python3"
  },
  "language_info": {
   "codemirror_mode": {
    "name": "ipython",
    "version": 3
   },
   "file_extension": ".py",
   "mimetype": "text/x-python",
   "name": "python",
   "nbconvert_exporter": "python",
   "pygments_lexer": "ipython3",
   "version": "3.6.3"
  }
 },
 "nbformat": 4,
 "nbformat_minor": 2
}
