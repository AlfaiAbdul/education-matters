{
 "cells": [
  {
   "cell_type": "markdown",
   "metadata": {},
   "source": [
    "# Multivariate Linear Regression"
   ]
  },
  {
   "cell_type": "code",
   "execution_count": 1,
   "metadata": {
    "collapsed": true
   },
   "outputs": [],
   "source": [
    "# This notebook contains multivariate linear regression analysis code used to predict graduate earnings.\n",
    "# We narrowed down to 4 features after comparing PCA and Decision tree analysis and used them for final regression. "
   ]
  },
  {
   "cell_type": "markdown",
   "metadata": {},
   "source": [
    "Multiple Linear Regression simply means that you have more than one feature variable.\n",
    "\n",
    "The generic formula is:\n",
    "$Y_i = Bias_0 + Weight_1 Feature_1 + Weight_2 Feature_2 + \\ldots + Weight_p Feature_p$\n",
    "\n",
    "The equation is often written as:\n",
    "$Y_i = \\theta_0 + \\theta_1 X_{i1} + \\theta_2 X_{i2} + \\ldots + \\theta_p X_{ip}$\n",
    "\n",
    "* The formula to used in our regression analysis is as below:\n",
    "* ### $Y_i$ = $Bias_0$ + $Weight_1$ sat_avg + $Weight_2$ age + $Weight_3$ median_hh_income + $Weight_4$ tuition"
   ]
  },
  {
   "cell_type": "code",
   "execution_count": 2,
   "metadata": {
    "collapsed": true
   },
   "outputs": [],
   "source": [
    "%matplotlib inline\n",
    "import matplotlib.pyplot as plt\n",
    "import numpy as np\n",
    "import pandas as pd"
   ]
  },
  {
   "cell_type": "markdown",
   "metadata": {},
   "source": [
    "## Dataset"
   ]
  },
  {
   "cell_type": "code",
   "execution_count": 3,
   "metadata": {},
   "outputs": [
    {
     "data": {
      "text/html": [
       "<div>\n",
       "<style scoped>\n",
       "    .dataframe tbody tr th:only-of-type {\n",
       "        vertical-align: middle;\n",
       "    }\n",
       "\n",
       "    .dataframe tbody tr th {\n",
       "        vertical-align: top;\n",
       "    }\n",
       "\n",
       "    .dataframe thead th {\n",
       "        text-align: right;\n",
       "    }\n",
       "</style>\n",
       "<table border=\"1\" class=\"dataframe\">\n",
       "  <thead>\n",
       "    <tr style=\"text-align: right;\">\n",
       "      <th></th>\n",
       "      <th>UNITID</th>\n",
       "      <th>INSTNM</th>\n",
       "      <th>CITY</th>\n",
       "      <th>STABBR</th>\n",
       "      <th>ZIP</th>\n",
       "      <th>PCT_WHITE</th>\n",
       "      <th>PCT_BLACK</th>\n",
       "      <th>PCT_ASIAN</th>\n",
       "      <th>PCT_HISPANIC</th>\n",
       "      <th>PCT_BORN_US</th>\n",
       "      <th>...</th>\n",
       "      <th>PCIP48</th>\n",
       "      <th>PCIP49</th>\n",
       "      <th>PCIP50</th>\n",
       "      <th>PCIP51</th>\n",
       "      <th>PCIP52</th>\n",
       "      <th>PCIP54</th>\n",
       "      <th>AGE_ENTRY</th>\n",
       "      <th>FEMALE</th>\n",
       "      <th>FIRST_GEN</th>\n",
       "      <th>FAMINC</th>\n",
       "    </tr>\n",
       "  </thead>\n",
       "  <tbody>\n",
       "    <tr>\n",
       "      <th>0</th>\n",
       "      <td>100654</td>\n",
       "      <td>Alabama A &amp; M University</td>\n",
       "      <td>Normal</td>\n",
       "      <td>AL</td>\n",
       "      <td>35762</td>\n",
       "      <td>46.840000</td>\n",
       "      <td>47.980000</td>\n",
       "      <td>1.48</td>\n",
       "      <td>3.79</td>\n",
       "      <td>94.739998</td>\n",
       "      <td>...</td>\n",
       "      <td>0.0</td>\n",
       "      <td>0.0</td>\n",
       "      <td>0.0258</td>\n",
       "      <td>0.0000</td>\n",
       "      <td>0.1479</td>\n",
       "      <td>0.0000</td>\n",
       "      <td>20.277134</td>\n",
       "      <td>0.5472427116</td>\n",
       "      <td>0.3887357227</td>\n",
       "      <td>30489.792062</td>\n",
       "    </tr>\n",
       "    <tr>\n",
       "      <th>1</th>\n",
       "      <td>100663</td>\n",
       "      <td>University of Alabama at Birmingham</td>\n",
       "      <td>Birmingham</td>\n",
       "      <td>AL</td>\n",
       "      <td>35294-0110</td>\n",
       "      <td>69.019997</td>\n",
       "      <td>27.760000</td>\n",
       "      <td>1.10</td>\n",
       "      <td>2.03</td>\n",
       "      <td>96.500000</td>\n",
       "      <td>...</td>\n",
       "      <td>0.0</td>\n",
       "      <td>0.0</td>\n",
       "      <td>0.0376</td>\n",
       "      <td>0.2231</td>\n",
       "      <td>0.1837</td>\n",
       "      <td>0.0188</td>\n",
       "      <td>23.584156</td>\n",
       "      <td>0.6369683532</td>\n",
       "      <td>0.3564593301</td>\n",
       "      <td>50315.256601</td>\n",
       "    </tr>\n",
       "    <tr>\n",
       "      <th>2</th>\n",
       "      <td>100706</td>\n",
       "      <td>University of Alabama in Huntsville</td>\n",
       "      <td>Huntsville</td>\n",
       "      <td>AL</td>\n",
       "      <td>35899</td>\n",
       "      <td>76.379997</td>\n",
       "      <td>18.980000</td>\n",
       "      <td>1.42</td>\n",
       "      <td>2.55</td>\n",
       "      <td>95.269997</td>\n",
       "      <td>...</td>\n",
       "      <td>0.0</td>\n",
       "      <td>0.0</td>\n",
       "      <td>0.0288</td>\n",
       "      <td>0.1892</td>\n",
       "      <td>0.2072</td>\n",
       "      <td>0.0117</td>\n",
       "      <td>23.152714</td>\n",
       "      <td>0.4779208832</td>\n",
       "      <td>0.3137931034</td>\n",
       "      <td>55624.221251</td>\n",
       "    </tr>\n",
       "    <tr>\n",
       "      <th>3</th>\n",
       "      <td>100751</td>\n",
       "      <td>The University of Alabama</td>\n",
       "      <td>Tuscaloosa</td>\n",
       "      <td>AL</td>\n",
       "      <td>35487-0166</td>\n",
       "      <td>75.349998</td>\n",
       "      <td>21.059999</td>\n",
       "      <td>1.20</td>\n",
       "      <td>2.41</td>\n",
       "      <td>96.080002</td>\n",
       "      <td>...</td>\n",
       "      <td>0.0</td>\n",
       "      <td>0.0</td>\n",
       "      <td>0.0295</td>\n",
       "      <td>0.1065</td>\n",
       "      <td>0.2886</td>\n",
       "      <td>0.0155</td>\n",
       "      <td>21.161128</td>\n",
       "      <td>0.607564495</td>\n",
       "      <td>0.2329344729</td>\n",
       "      <td>89976.373415</td>\n",
       "    </tr>\n",
       "    <tr>\n",
       "      <th>4</th>\n",
       "      <td>100830</td>\n",
       "      <td>Auburn University at Montgomery</td>\n",
       "      <td>Montgomery</td>\n",
       "      <td>AL</td>\n",
       "      <td>36117-3596</td>\n",
       "      <td>59.970001</td>\n",
       "      <td>37.209999</td>\n",
       "      <td>0.91</td>\n",
       "      <td>1.62</td>\n",
       "      <td>96.849998</td>\n",
       "      <td>...</td>\n",
       "      <td>0.0</td>\n",
       "      <td>0.0</td>\n",
       "      <td>0.0286</td>\n",
       "      <td>0.2555</td>\n",
       "      <td>0.2471</td>\n",
       "      <td>0.0134</td>\n",
       "      <td>22.438243</td>\n",
       "      <td>0.6838975297</td>\n",
       "      <td>0.3906485671</td>\n",
       "      <td>38489.309241</td>\n",
       "    </tr>\n",
       "  </tbody>\n",
       "</table>\n",
       "<p>5 rows × 71 columns</p>\n",
       "</div>"
      ],
      "text/plain": [
       "   UNITID                               INSTNM        CITY STABBR         ZIP  \\\n",
       "0  100654             Alabama A & M University      Normal     AL       35762   \n",
       "1  100663  University of Alabama at Birmingham  Birmingham     AL  35294-0110   \n",
       "2  100706  University of Alabama in Huntsville  Huntsville     AL       35899   \n",
       "3  100751            The University of Alabama  Tuscaloosa     AL  35487-0166   \n",
       "4  100830      Auburn University at Montgomery  Montgomery     AL  36117-3596   \n",
       "\n",
       "   PCT_WHITE  PCT_BLACK  PCT_ASIAN  PCT_HISPANIC  PCT_BORN_US      ...       \\\n",
       "0  46.840000  47.980000       1.48          3.79    94.739998      ...        \n",
       "1  69.019997  27.760000       1.10          2.03    96.500000      ...        \n",
       "2  76.379997  18.980000       1.42          2.55    95.269997      ...        \n",
       "3  75.349998  21.059999       1.20          2.41    96.080002      ...        \n",
       "4  59.970001  37.209999       0.91          1.62    96.849998      ...        \n",
       "\n",
       "   PCIP48  PCIP49  PCIP50  PCIP51  PCIP52  PCIP54  AGE_ENTRY        FEMALE  \\\n",
       "0     0.0     0.0  0.0258  0.0000  0.1479  0.0000  20.277134  0.5472427116   \n",
       "1     0.0     0.0  0.0376  0.2231  0.1837  0.0188  23.584156  0.6369683532   \n",
       "2     0.0     0.0  0.0288  0.1892  0.2072  0.0117  23.152714  0.4779208832   \n",
       "3     0.0     0.0  0.0295  0.1065  0.2886  0.0155  21.161128   0.607564495   \n",
       "4     0.0     0.0  0.0286  0.2555  0.2471  0.0134  22.438243  0.6838975297   \n",
       "\n",
       "      FIRST_GEN        FAMINC  \n",
       "0  0.3887357227  30489.792062  \n",
       "1  0.3564593301  50315.256601  \n",
       "2  0.3137931034  55624.221251  \n",
       "3  0.2329344729  89976.373415  \n",
       "4  0.3906485671  38489.309241  \n",
       "\n",
       "[5 rows x 71 columns]"
      ]
     },
     "execution_count": 3,
     "metadata": {},
     "output_type": "execute_result"
    }
   ],
   "source": [
    "# Read the csv file into a pandas DataFrame\n",
    "data = pd.read_csv('consol_data.csv')\n",
    "data.head()"
   ]
  },
  {
   "cell_type": "code",
   "execution_count": 4,
   "metadata": {},
   "outputs": [
    {
     "data": {
      "text/plain": [
       "Index(['UNITID', 'INSTNM', 'CITY', 'STABBR', 'ZIP', 'PCT_WHITE', 'PCT_BLACK',\n",
       "       'PCT_ASIAN', 'PCT_HISPANIC', 'PCT_BORN_US', 'MEDIAN_HH_INC',\n",
       "       'LN_MEDIAN_HH_INC', 'POVERTY_RATE', 'UNEMP_RATE', 'LATITUDE',\n",
       "       'LONGITUDE', 'ADM_RATE', 'ADM_RATE_ALL', 'SAT_AVG', 'COUNT_NWNE_P10',\n",
       "       'COUNT_WNE_P10', 'MN_EARN_WNE_P10', 'MN_EARN_WNE_MALE0_P10',\n",
       "       'MN_EARN_WNE_MALE1_P10', 'TUITIONFEE_IN', 'C150_4_WHITE',\n",
       "       'C150_4_BLACK', 'C150_4_HISP', 'C150_4_ASIAN', 'PCIP01', 'PCIP03',\n",
       "       'PCIP04', 'PCIP05', 'PCIP09', 'PCIP10', 'PCIP11', 'PCIP12', 'PCIP13',\n",
       "       'PCIP14', 'PCIP15', 'PCIP16', 'PCIP19', 'PCIP22', 'PCIP23', 'PCIP24',\n",
       "       'PCIP25', 'PCIP26', 'PCIP27', 'PCIP29', 'PCIP30', 'PCIP31', 'PCIP38',\n",
       "       'PCIP39', 'PCIP40', 'PCIP41', 'PCIP42', 'PCIP43', 'PCIP44', 'PCIP45',\n",
       "       'PCIP46', 'PCIP47', 'PCIP48', 'PCIP49', 'PCIP50', 'PCIP51', 'PCIP52',\n",
       "       'PCIP54', 'AGE_ENTRY', 'FEMALE', 'FIRST_GEN', 'FAMINC'],\n",
       "      dtype='object')"
      ]
     },
     "execution_count": 4,
     "metadata": {},
     "output_type": "execute_result"
    }
   ],
   "source": [
    "data.columns"
   ]
  },
  {
   "cell_type": "code",
   "execution_count": 5,
   "metadata": {},
   "outputs": [
    {
     "name": "stdout",
     "output_type": "stream",
     "text": [
      "1060\n"
     ]
    }
   ],
   "source": [
    "print(len(data))\n",
    "# data.dtypes"
   ]
  },
  {
   "cell_type": "code",
   "execution_count": 6,
   "metadata": {},
   "outputs": [
    {
     "data": {
      "text/plain": [
       "989"
      ]
     },
     "execution_count": 6,
     "metadata": {},
     "output_type": "execute_result"
    }
   ],
   "source": [
    "# data cleanup\n",
    "data = data.replace('PrivacySuppressed', np.nan).dropna()\n",
    "# data['MN_EARN_WNE_P10'] = data['MN_EARN_WNE_P10'].astype(int)\n",
    "data['MN_EARN_WNE_P10'] = pd.to_numeric(data['MN_EARN_WNE_P10'], errors='coerce')\n",
    "data['FEMALE'] = data['FEMALE'].astype(float)\n",
    "len(data)"
   ]
  },
  {
   "cell_type": "code",
   "execution_count": 7,
   "metadata": {},
   "outputs": [
    {
     "name": "stdout",
     "output_type": "stream",
     "text": [
      "Shape:  (989, 4) (989, 1)\n"
     ]
    }
   ],
   "source": [
    "# Assign the data to X and y\n",
    "# Note: Sklearn requires a N x 1 array of values\n",
    "# so we use reshape to create this\n",
    "\n",
    "# reshape(-1, 1) says: create a new array with 1 column and however many number of rows are in the data\n",
    "# see https://docs.scipy.org/doc/numpy/reference/generated/numpy.reshape.html\n",
    "\n",
    "X = data[['SAT_AVG','AGE_ENTRY','MEDIAN_HH_INC', 'TUITIONFEE_IN',\n",
    "       #'PCT_WHITE', 'PCT_BLACK', 'PCT_ASIAN', 'PCT_HISPANIC','FEMALE', 'POVERTY_RATE'\n",
    "       #'C150_4_WHITE', 'C150_4_BLACK', 'C150_4_HISP', 'C150_4_ASIAN','FAMINC','TUITIONFEE_IN',\n",
    "       #'PCIP01', 'PCIP03', 'PCIP04', 'PCIP05', 'PCIP09',\n",
    "       #'PCIP10', 'PCIP11', 'PCIP12', 'PCIP13', 'PCIP14', 'PCIP15', 'PCIP16',\n",
    "       #'PCIP19', 'PCIP22', 'PCIP23', 'PCIP24', 'PCIP25', 'PCIP26', 'PCIP27',\n",
    "       #'PCIP29', 'PCIP30', 'PCIP31', 'PCIP38', 'PCIP39', 'PCIP40', 'PCIP41',\n",
    "       #'PCIP42', 'PCIP43', 'PCIP44', 'PCIP45', 'PCIP46', 'PCIP47', 'PCIP48',\n",
    "       #'PCIP49', 'PCIP50', 'PCIP51', 'PCIP52', 'PCIP54'\n",
    "         ]]\n",
    "y = data.MN_EARN_WNE_P10.values.reshape(-1, 1)\n",
    "\n",
    "print(\"Shape: \", X.shape, y.shape)"
   ]
  },
  {
   "cell_type": "code",
   "execution_count": 8,
   "metadata": {},
   "outputs": [
    {
     "data": {
      "text/plain": [
       "numpy.int64"
      ]
     },
     "execution_count": 8,
     "metadata": {},
     "output_type": "execute_result"
    }
   ],
   "source": [
    "type(y[0][0])"
   ]
  },
  {
   "cell_type": "code",
   "execution_count": 9,
   "metadata": {},
   "outputs": [
    {
     "data": {
      "text/html": [
       "<div>\n",
       "<style scoped>\n",
       "    .dataframe tbody tr th:only-of-type {\n",
       "        vertical-align: middle;\n",
       "    }\n",
       "\n",
       "    .dataframe tbody tr th {\n",
       "        vertical-align: top;\n",
       "    }\n",
       "\n",
       "    .dataframe thead th {\n",
       "        text-align: right;\n",
       "    }\n",
       "</style>\n",
       "<table border=\"1\" class=\"dataframe\">\n",
       "  <thead>\n",
       "    <tr style=\"text-align: right;\">\n",
       "      <th></th>\n",
       "      <th>SAT_AVG</th>\n",
       "      <th>AGE_ENTRY</th>\n",
       "      <th>FEMALE</th>\n",
       "      <th>MEDIAN_HH_INC</th>\n",
       "      <th>TUITIONFEE_IN</th>\n",
       "      <th>MN_EARN_WNE_P10</th>\n",
       "    </tr>\n",
       "  </thead>\n",
       "  <tbody>\n",
       "    <tr>\n",
       "      <th>0</th>\n",
       "      <td>850.0</td>\n",
       "      <td>20.277134</td>\n",
       "      <td>0.547243</td>\n",
       "      <td>49720.22</td>\n",
       "      <td>9366.0</td>\n",
       "      <td>34300</td>\n",
       "    </tr>\n",
       "    <tr>\n",
       "      <th>1</th>\n",
       "      <td>1147.0</td>\n",
       "      <td>23.584156</td>\n",
       "      <td>0.636968</td>\n",
       "      <td>55735.22</td>\n",
       "      <td>7766.0</td>\n",
       "      <td>46400</td>\n",
       "    </tr>\n",
       "    <tr>\n",
       "      <th>2</th>\n",
       "      <td>1221.0</td>\n",
       "      <td>23.152714</td>\n",
       "      <td>0.477921</td>\n",
       "      <td>58688.62</td>\n",
       "      <td>9128.0</td>\n",
       "      <td>50500</td>\n",
       "    </tr>\n",
       "    <tr>\n",
       "      <th>3</th>\n",
       "      <td>1181.0</td>\n",
       "      <td>21.161128</td>\n",
       "      <td>0.607564</td>\n",
       "      <td>57928.41</td>\n",
       "      <td>10170.0</td>\n",
       "      <td>49900</td>\n",
       "    </tr>\n",
       "    <tr>\n",
       "      <th>4</th>\n",
       "      <td>990.0</td>\n",
       "      <td>22.438243</td>\n",
       "      <td>0.683898</td>\n",
       "      <td>50723.81</td>\n",
       "      <td>9350.0</td>\n",
       "      <td>37900</td>\n",
       "    </tr>\n",
       "  </tbody>\n",
       "</table>\n",
       "</div>"
      ],
      "text/plain": [
       "   SAT_AVG  AGE_ENTRY    FEMALE  MEDIAN_HH_INC  TUITIONFEE_IN  MN_EARN_WNE_P10\n",
       "0    850.0  20.277134  0.547243       49720.22         9366.0            34300\n",
       "1   1147.0  23.584156  0.636968       55735.22         7766.0            46400\n",
       "2   1221.0  23.152714  0.477921       58688.62         9128.0            50500\n",
       "3   1181.0  21.161128  0.607564       57928.41        10170.0            49900\n",
       "4    990.0  22.438243  0.683898       50723.81         9350.0            37900"
      ]
     },
     "execution_count": 9,
     "metadata": {},
     "output_type": "execute_result"
    }
   ],
   "source": [
    "data[['SAT_AVG','AGE_ENTRY','FEMALE', 'MEDIAN_HH_INC', 'TUITIONFEE_IN','MN_EARN_WNE_P10']].head()"
   ]
  },
  {
   "cell_type": "code",
   "execution_count": 10,
   "metadata": {
    "collapsed": true
   },
   "outputs": [],
   "source": [
    "from sklearn.model_selection import train_test_split\n",
    "from sklearn.linear_model import LinearRegression"
   ]
  },
  {
   "cell_type": "code",
   "execution_count": 11,
   "metadata": {
    "collapsed": true
   },
   "outputs": [],
   "source": [
    "# Use sklearn's `train_test_split` to split the data into training and testing\n",
    "X_train, X_test, y_train, y_test = train_test_split(X, y, random_state=42)"
   ]
  },
  {
   "cell_type": "code",
   "execution_count": 12,
   "metadata": {},
   "outputs": [
    {
     "name": "stdout",
     "output_type": "stream",
     "text": [
      "Training Data Length:\n",
      "741\n",
      "Test Data Length:\n",
      "248\n"
     ]
    }
   ],
   "source": [
    "print('Training Data Length:')\n",
    "print(len(X_train))\n",
    "print('Test Data Length:')\n",
    "print(len(X_test))"
   ]
  },
  {
   "cell_type": "code",
   "execution_count": 13,
   "metadata": {
    "collapsed": true
   },
   "outputs": [],
   "source": [
    "# Create the model\n",
    "model = LinearRegression()"
   ]
  },
  {
   "cell_type": "code",
   "execution_count": 14,
   "metadata": {},
   "outputs": [
    {
     "data": {
      "text/plain": [
       "LinearRegression(copy_X=True, fit_intercept=True, n_jobs=1, normalize=False)"
      ]
     },
     "execution_count": 14,
     "metadata": {},
     "output_type": "execute_result"
    }
   ],
   "source": [
    "# Fit the model to the trainig data. \n",
    "model.fit(X_train, y_train)"
   ]
  },
  {
   "cell_type": "code",
   "execution_count": 15,
   "metadata": {},
   "outputs": [
    {
     "name": "stdout",
     "output_type": "stream",
     "text": [
      "Mean Squared Error (MSE): 79741109.29415183\n",
      "R-squared (R2 ): 0.622613695782247\n"
     ]
    }
   ],
   "source": [
    "# Calculate the mean_squared_error and the r-squared value\n",
    "# for the testing data\n",
    "\n",
    "from sklearn.metrics import mean_squared_error, r2_score\n",
    "\n",
    "# Use our model to make predictions\n",
    "predicted = model.predict(X_test)\n",
    "\n",
    "# Score the predictions with mse and r2\n",
    "mse = mean_squared_error(y_test, predicted)\n",
    "r2 = r2_score(y_test, predicted)\n",
    "\n",
    "print(f\"Mean Squared Error (MSE): {mse}\")\n",
    "print(f\"R-squared (R2 ): {r2}\")"
   ]
  },
  {
   "cell_type": "code",
   "execution_count": 16,
   "metadata": {},
   "outputs": [],
   "source": [
    "# list(map(int,predicted))"
   ]
  },
  {
   "cell_type": "code",
   "execution_count": 17,
   "metadata": {},
   "outputs": [
    {
     "data": {
      "text/plain": [
       "0.622613695782247"
      ]
     },
     "execution_count": 17,
     "metadata": {},
     "output_type": "execute_result"
    }
   ],
   "source": [
    "# Call the `score` method on the model to show the r2 score\n",
    "model.score(X_test, y_test)"
   ]
  },
  {
   "cell_type": "code",
   "execution_count": 18,
   "metadata": {},
   "outputs": [
    {
     "data": {
      "text/plain": [
       "array([[5.68369974e+01, 2.16893598e+02, 3.08725730e-01, 1.10249309e-01]])"
      ]
     },
     "execution_count": 18,
     "metadata": {},
     "output_type": "execute_result"
    }
   ],
   "source": [
    "model.coef_"
   ]
  },
  {
   "cell_type": "code",
   "execution_count": 19,
   "metadata": {},
   "outputs": [
    {
     "data": {
      "text/plain": [
       "array([-38316.04928944])"
      ]
     },
     "execution_count": 19,
     "metadata": {},
     "output_type": "execute_result"
    }
   ],
   "source": [
    "model.intercept_"
   ]
  },
  {
   "cell_type": "code",
   "execution_count": 20,
   "metadata": {
    "collapsed": true
   },
   "outputs": [],
   "source": [
    "# save the model to a file. so we can use it later to pass values get predictions\n",
    "import pickle\n",
    "with open('lr_model', 'wb') as f:\n",
    "    pickle.dump(model, f)"
   ]
  },
  {
   "cell_type": "code",
   "execution_count": 21,
   "metadata": {},
   "outputs": [
    {
     "name": "stdout",
     "output_type": "stream",
     "text": [
      "52023.95411938492\n"
     ]
    }
   ],
   "source": [
    "with open('lr_model', 'rb') as f:\n",
    "    lr_mod = pickle.load(f)\n",
    "    pre_val = lr_mod.predict(np.reshape([1100,21, 70000, 15000],(1,4)))\n",
    "    print(pre_val[0][0])"
   ]
  },
  {
   "cell_type": "code",
   "execution_count": 22,
   "metadata": {},
   "outputs": [
    {
     "name": "stdout",
     "output_type": "stream",
     "text": [
      "<class 'numpy.float64'>\n"
     ]
    }
   ],
   "source": [
    "print(type(pre_val[0][0]))"
   ]
  },
  {
   "cell_type": "markdown",
   "metadata": {},
   "source": [
    "# R-squared (R2 ): 0.622613695782247"
   ]
  },
  {
   "cell_type": "markdown",
   "metadata": {},
   "source": [
    "## Trend of Predicted vs Actual data"
   ]
  },
  {
   "cell_type": "code",
   "execution_count": 23,
   "metadata": {},
   "outputs": [
    {
     "data": {
      "text/html": [
       "<div>\n",
       "<style scoped>\n",
       "    .dataframe tbody tr th:only-of-type {\n",
       "        vertical-align: middle;\n",
       "    }\n",
       "\n",
       "    .dataframe tbody tr th {\n",
       "        vertical-align: top;\n",
       "    }\n",
       "\n",
       "    .dataframe thead th {\n",
       "        text-align: right;\n",
       "    }\n",
       "</style>\n",
       "<table border=\"1\" class=\"dataframe\">\n",
       "  <thead>\n",
       "    <tr style=\"text-align: right;\">\n",
       "      <th></th>\n",
       "      <th>Predicted</th>\n",
       "      <th>Actual</th>\n",
       "    </tr>\n",
       "  </thead>\n",
       "  <tbody>\n",
       "    <tr>\n",
       "      <th>0</th>\n",
       "      <td>46845.312648</td>\n",
       "      <td>47000</td>\n",
       "    </tr>\n",
       "    <tr>\n",
       "      <th>1</th>\n",
       "      <td>53147.204728</td>\n",
       "      <td>56100</td>\n",
       "    </tr>\n",
       "    <tr>\n",
       "      <th>2</th>\n",
       "      <td>51484.315207</td>\n",
       "      <td>66200</td>\n",
       "    </tr>\n",
       "    <tr>\n",
       "      <th>3</th>\n",
       "      <td>38261.156237</td>\n",
       "      <td>38100</td>\n",
       "    </tr>\n",
       "    <tr>\n",
       "      <th>4</th>\n",
       "      <td>50744.208260</td>\n",
       "      <td>68200</td>\n",
       "    </tr>\n",
       "  </tbody>\n",
       "</table>\n",
       "</div>"
      ],
      "text/plain": [
       "      Predicted  Actual\n",
       "0  46845.312648   47000\n",
       "1  53147.204728   56100\n",
       "2  51484.315207   66200\n",
       "3  38261.156237   38100\n",
       "4  50744.208260   68200"
      ]
     },
     "execution_count": 23,
     "metadata": {},
     "output_type": "execute_result"
    }
   ],
   "source": [
    "pred_df = pd.DataFrame({\"Predicted\": predicted[:,0], \"Actual\": list(map(int,y_test[:,0]))})[[\"Predicted\", \"Actual\"]].head(25)\n",
    "pred_df.head()"
   ]
  },
  {
   "cell_type": "code",
   "execution_count": 24,
   "metadata": {},
   "outputs": [
    {
     "data": {
      "image/png": "[encoded data removed]",
      "text/plain": [
       "<matplotlib.figure.Figure at 0x28eb28aae48>"
      ]
     },
     "metadata": {},
     "output_type": "display_data"
    }
   ],
   "source": [
    "pred_df.plot(figsize=(10,6))\n",
    "# plt.xlabel('Test Data')\n",
    "plt.ylabel('Earnings (in $)')\n",
    "plt.title('Predicted vs Actual Data')\n",
    "\n",
    "plt.savefig(\"LR_trend_large.png\")\n",
    "plt.show()"
   ]
  },
  {
   "cell_type": "code",
   "execution_count": 25,
   "metadata": {
    "collapsed": true
   },
   "outputs": [],
   "source": [
    "# Plot Residuals\n",
    "# plt.scatter(predicted[:,0], predicted[:,0] - list(map(float,y_test[:,0])))\n",
    "# plt.hlines(y=0, xmin=predicted.min(), xmax=predicted.max())\n",
    "# plt.show()"
   ]
  },
  {
   "cell_type": "code",
   "execution_count": 26,
   "metadata": {},
   "outputs": [
    {
     "data": {
      "text/plain": [
       "array([[30775.88527783]])"
      ]
     },
     "execution_count": 26,
     "metadata": {},
     "output_type": "execute_result"
    }
   ],
   "source": [
    "prediced_inc = model.predict(np.reshape([850.0,20.277134, 49720.22, 9366.0],(1,4)))\n",
    "prediced_inc"
   ]
  },
  {
   "cell_type": "code",
   "execution_count": 27,
   "metadata": {},
   "outputs": [
    {
     "data": {
      "text/plain": [
       "array([[52023.95411938]])"
      ]
     },
     "execution_count": 27,
     "metadata": {},
     "output_type": "execute_result"
    }
   ],
   "source": [
    "prediced_inc = model.predict(np.reshape([1100,21, 70000, 15000],(1,4)))\n",
    "prediced_inc"
   ]
  },
  {
   "cell_type": "code",
   "execution_count": 28,
   "metadata": {
    "collapsed": true
   },
   "outputs": [],
   "source": [
    "# Code after this is part of learning process and not really used in the project."
   ]
  },
  {
   "cell_type": "markdown",
   "metadata": {},
   "source": [
    "## Apply MinMax Scale"
   ]
  },
  {
   "cell_type": "code",
   "execution_count": 29,
   "metadata": {},
   "outputs": [
    {
     "name": "stderr",
     "output_type": "stream",
     "text": [
      "C:\\Users\\Jagatha\\Anaconda3\\envs\\PythonData\\lib\\site-packages\\sklearn\\utils\\validation.py:475: DataConversionWarning: Data with input dtype int64 was converted to float64 by MinMaxScaler.\n",
      "  warnings.warn(msg, DataConversionWarning)\n"
     ]
    },
    {
     "data": {
      "text/plain": [
       "array([[0.14229765, 0.08089967, 0.23427041, 0.11934123],\n",
       "       [0.53002611, 0.34428312, 0.33537612, 0.08704866],\n",
       "       [0.62663185, 0.30992145, 0.38501961, 0.11453771],\n",
       "       ...,\n",
       "       [0.32245431, 0.08974607, 0.76004766, 0.15885926],\n",
       "       [0.39817232, 0.08974607, 0.76004766, 0.15885926],\n",
       "       [0.34986945, 0.08974607, 0.76004766, 0.15906109]])"
      ]
     },
     "execution_count": 29,
     "metadata": {},
     "output_type": "execute_result"
    }
   ],
   "source": [
    "# Scaling is just part of learning and it is not required for regression analysis.\n",
    "from sklearn.preprocessing import MinMaxScaler\n",
    "X_minmax = MinMaxScaler().fit(X)\n",
    "y_minmax = MinMaxScaler().fit(y)\n",
    "X_transformed = X_minmax.transform(X)\n",
    "y_tranformed = y_minmax.transform(y)\n",
    "X_transformed"
   ]
  },
  {
   "cell_type": "code",
   "execution_count": 30,
   "metadata": {
    "collapsed": true
   },
   "outputs": [],
   "source": [
    "# Use sklearn's `train_test_split` to split the data into training and testing\n",
    "X_strain, X_stest, y_strain, y_stest = train_test_split(X_transformed, y_tranformed, random_state=42)\n",
    "smodel = LinearRegression()\n",
    "smodel.fit(X_strain, y_strain)\n",
    "spredicted = smodel.predict(X_stest)"
   ]
  },
  {
   "cell_type": "code",
   "execution_count": 31,
   "metadata": {},
   "outputs": [
    {
     "data": {
      "text/plain": [
       "0.6226136957822583"
      ]
     },
     "execution_count": 31,
     "metadata": {},
     "output_type": "execute_result"
    }
   ],
   "source": [
    "smodel.score(X_stest, y_stest)"
   ]
  },
  {
   "cell_type": "code",
   "execution_count": 32,
   "metadata": {},
   "outputs": [
    {
     "data": {
      "text/plain": [
       "array([[0.37891332, 0.02370148, 0.15985004, 0.04754154]])"
      ]
     },
     "execution_count": 32,
     "metadata": {},
     "output_type": "execute_result"
    }
   ],
   "source": [
    "smodel.coef_"
   ]
  },
  {
   "cell_type": "code",
   "execution_count": 33,
   "metadata": {},
   "outputs": [
    {
     "data": {
      "text/plain": [
       "array([-0.067836])"
      ]
     },
     "execution_count": 33,
     "metadata": {},
     "output_type": "execute_result"
    }
   ],
   "source": [
    "smodel.intercept_"
   ]
  },
  {
   "cell_type": "markdown",
   "metadata": {},
   "source": [
    "## Correlation between Median Houshold Income and Mean Income"
   ]
  },
  {
   "cell_type": "code",
   "execution_count": 34,
   "metadata": {
    "collapsed": true
   },
   "outputs": [],
   "source": [
    "from scipy.stats import linregress \n",
    "import seaborn as sns \n",
    "from scipy import stats"
   ]
  },
  {
   "cell_type": "code",
   "execution_count": 35,
   "metadata": {},
   "outputs": [
    {
     "name": "stderr",
     "output_type": "stream",
     "text": [
      "No handles with labels found to put in legend.\n"
     ]
    },
    {
     "name": "stdout",
     "output_type": "stream",
     "text": [
      "0.3251\n"
     ]
    },
    {
     "data": {
      "image/png": "[encoded data removed]",
      "text/plain": [
       "<matplotlib.figure.Figure at 0x28eb4cf30f0>"
      ]
     },
     "metadata": {},
     "output_type": "display_data"
    }
   ],
   "source": [
    "fig = plt.figure(figsize=(8,5)) \n",
    "a = list(map(int,data[\"MEDIAN_HH_INC\"].values))\n",
    "b = list(map(int,data[\"MN_EARN_WNE_P10\"].values))\n",
    "plt.scatter(a, b, color=\"purple\", marker=\"o\", alpha=0.8) \n",
    "\n",
    "# Calculate and add R2 value\n",
    "slope, intercept, r_value, p_value, std_err = stats.linregress(a,b)\n",
    "R= round(r_value**2, 4)\n",
    "print(R)\n",
    "\n",
    "# Incorporate the other graph properties\n",
    "plt.title(\"Correlation between Median Household Income and Student's Mean Income\")\n",
    "plt.xlabel(\"Median Household Income (in $)\")\n",
    "plt.ylabel(\"Student's Mean Income (in $)\") \n",
    "\n",
    "plt.legend(loc='best')\n",
    "plt.grid(True)\n",
    "# sns.set_style('whitegrid')\n",
    "plt.show()"
   ]
  },
  {
   "cell_type": "markdown",
   "metadata": {},
   "source": [
    "## SAT avg. score vs Earnings"
   ]
  },
  {
   "cell_type": "code",
   "execution_count": 36,
   "metadata": {},
   "outputs": [
    {
     "data": {
      "text/plain": [
       "<matplotlib.collections.PathCollection at 0x28eb4d9d470>"
      ]
     },
     "execution_count": 36,
     "metadata": {},
     "output_type": "execute_result"
    },
    {
     "data": {
      "image/png": "[encoded data removed]",
      "text/plain": [
       "<matplotlib.figure.Figure at 0x28eb29629b0>"
      ]
     },
     "metadata": {},
     "output_type": "display_data"
    }
   ],
   "source": [
    "a = data['SAT_AVG']\n",
    "b = data['MN_EARN_WNE_P10']\n",
    "plt.scatter(a,b)"
   ]
  },
  {
   "cell_type": "markdown",
   "metadata": {},
   "source": [
    "## Age at entry vs Earnings"
   ]
  },
  {
   "cell_type": "code",
   "execution_count": 37,
   "metadata": {},
   "outputs": [
    {
     "data": {
      "text/plain": [
       "<matplotlib.collections.PathCollection at 0x28eb4dfbb00>"
      ]
     },
     "execution_count": 37,
     "metadata": {},
     "output_type": "execute_result"
    },
    {
     "data": {
      "image/png": "[encoded data removed]",
      "text/plain": [
       "<matplotlib.figure.Figure at 0x28eb4ce6cc0>"
      ]
     },
     "metadata": {},
     "output_type": "display_data"
    }
   ],
   "source": [
    "c = data['AGE_ENTRY']\n",
    "d = data['MN_EARN_WNE_P10']\n",
    "plt.scatter(c,d)"
   ]
  }
 ],
 "metadata": {
  "kernelspec": {
   "display_name": "Python 3",
   "language": "python",
   "name": "python3"
  },
  "language_info": {
   "codemirror_mode": {
    "name": "ipython",
    "version": 3
   },
   "file_extension": ".py",
   "mimetype": "text/x-python",
   "name": "python",
   "nbconvert_exporter": "python",
   "pygments_lexer": "ipython3",
   "version": "3.6.3"
  }
 },
 "nbformat": 4,
 "nbformat_minor": 2
}
